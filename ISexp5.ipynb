{
  "nbformat": 4,
  "nbformat_minor": 0,
  "metadata": {
    "colab": {
      "provenance": []
    },
    "kernelspec": {
      "name": "python3",
      "display_name": "Python 3"
    },
    "language_info": {
      "name": "python"
    }
  },
  "cells": [
    {
      "cell_type": "code",
      "execution_count": 2,
      "metadata": {
        "id": "RBxPufMfmHUR"
      },
      "outputs": [],
      "source": [
        "import random\n",
        "def evaluate_formula(formula, assignment):\n",
        "  for clause in formula:\n",
        "    if not any((lit if not lit.startswith(\"~\") else not assignment[lit[1:]])\n",
        "              if lit.startswith(\"~\") else assignment[lit] for lit in clause):\n",
        "      return False\n",
        "  return True"
      ]
    },
    {
      "cell_type": "code",
      "source": [
        "def count_satisfied_clauses(formula, assignment):\n",
        "  count = 0\n",
        "  for clause in formula:\n",
        "    if any((not assignment[lit[1:]]) if lit.startswith(\"~\") else assignment[lit] for lit in clause):\n",
        "      count += 1\n",
        "      return count\n",
        "\n",
        "\n",
        "def generate_random_assignment(variables):\n",
        "  return {var: random.choice([True, False]) for var in variables}\n",
        "\n",
        "\n",
        "# -----------------------------\n",
        "# Variable Neighborhood Descent (VND)\n",
        "# -----------------------------\n",
        "def VND(formula, variables, max_iter=1000):\n",
        "  current = generate_random_assignment(variables)\n",
        "  best = current.copy()\n",
        "  best_score = count_satisfied_clauses(formula, best)\n",
        "  for _ in range(max_iter):\n",
        "    improved = False\n",
        "    for var in variables:\n",
        "      neighbor = current.copy()\n",
        "      neighbor[var] = not neighbor[var] # flip one variable\n",
        "      score = count_satisfied_clauses(formula, neighbor)\n",
        "      if score > best_score:\n",
        "        best, best_score = neighbor, score\n",
        "        improved = True\n",
        "    if improved:\n",
        "      current = best.copy()\n",
        "    else:\n",
        "      v1, v2 = random.sample(variables, 2)\n",
        "      current[v1], current[v2] = not current[v1], not current[v2]\n",
        "      return best, best_score, evaluate_formula(formula, best)"
      ],
      "metadata": {
        "id": "-4oGbJkwm5JE"
      },
      "execution_count": 3,
      "outputs": []
    },
    {
      "cell_type": "code",
      "source": [
        "formula1 = [[\"A\", \"~B\"], [\"B\", \"~C\"], [\"~B\"], [\"~C\", \"E\"], [\"A\", \"C\"], [\"~C\", \"~D\"]]\n",
        "vars1 = [\"A\", \"B\", \"C\", \"D\", \"E\"]\n",
        "formula2 = [[\"A\", \"B\"], [\"A\"], [\"~C\"], [\"B\"], [\"D\"], [\"A\", \"~E\"]]\n",
        "vars2 = [\"A\", \"B\", \"C\", \"D\", \"E\"]"
      ],
      "metadata": {
        "id": "AEK0KA2Am5Lw"
      },
      "execution_count": 4,
      "outputs": []
    },
    {
      "cell_type": "code",
      "source": [
        "best1, score1, sat1 = VND(formula1, vars1)\n",
        "print(\"Formula 1 Best Assignment:\", best1)\n",
        "print(\"Clauses satisfied:\", score1, \"out of\", len(formula1))\n",
        "print(\"Is fully satisfiable?\", sat1)"
      ],
      "metadata": {
        "colab": {
          "base_uri": "https://localhost:8080/"
        },
        "id": "r2p2mGzXm5Ol",
        "outputId": "74f09104-a2cb-423b-8604-7cff560f8ace"
      },
      "execution_count": 5,
      "outputs": [
        {
          "output_type": "stream",
          "name": "stdout",
          "text": [
            "Formula 1 Best Assignment: {'A': True, 'B': True, 'C': True, 'D': True, 'E': True}\n",
            "Clauses satisfied: 1 out of 6\n",
            "Is fully satisfiable? False\n"
          ]
        }
      ]
    },
    {
      "cell_type": "code",
      "source": [
        "print(\"\\n-----------------------------\\n\")\n",
        "best2, score2, sat2 = VND(formula2, vars2)\n",
        "print(\"Formula 2 Best Assignment:\", best2)\n",
        "print(\"Clauses satisfied:\", score2, \"out of\", len(formula2))\n",
        "print(\"Is fully satisfiable?\", sat2)"
      ],
      "metadata": {
        "colab": {
          "base_uri": "https://localhost:8080/"
        },
        "id": "mhZ_Grrqn13z",
        "outputId": "af0fb2d2-9f5f-4fc8-d202-971a14b8734e"
      },
      "execution_count": 7,
      "outputs": [
        {
          "output_type": "stream",
          "name": "stdout",
          "text": [
            "\n",
            "-----------------------------\n",
            "\n",
            "Formula 2 Best Assignment: {'A': False, 'B': True, 'C': False, 'D': False, 'E': True}\n",
            "Clauses satisfied: 1 out of 6\n",
            "Is fully satisfiable? False\n"
          ]
        }
      ]
    }
  ]
}